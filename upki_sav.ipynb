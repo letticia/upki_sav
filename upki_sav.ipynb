{
 "cells": [
  {
   "cell_type": "code",
   "execution_count": null,
   "id": "8d4a2ab3-e0c3-4bc8-80c3-337294cd87af",
   "metadata": {},
   "outputs": [],
   "source": [
    "import pandas as pd\n",
    "from IPython.display import display\n",
    "df = pd.read_csv(\"serverAll.tsv\", sep='\\t', encoding=\"shift-jis\", dtype=\"object\", engine=\"python\", error_bad_lines=False)\n",
    "pd.set_option(\"display.max_rows\", 200)\n",
    "pd.set_option(\"display.max_columns\", 50)\n",
    "pd.set_option(\"display.max_colwidth\", 200)"
   ]
  },
  {
   "cell_type": "code",
   "execution_count": null,
   "id": "f4a5d634-267d-436b-893b-e2e85b0014e1",
   "metadata": {},
   "outputs": [],
   "source": [
    "subjectDN = input('主体者DNの一部または全部を入力: ').strip().replace(\"(\", \"\\\\(\").replace(\")\", \"\\\\)\")\n",
    "df2 = df[df['主体者DN'].str.contains(subjectDN)]\n",
    "result = df2.loc[:,[\n",
    "    '発行・更新申請-申請ID',\n",
    "    '主体者DN',\n",
    "    '状態',\n",
    "    '発行・更新申請-シリアル番号',\n",
    "    '利用管理者mail',\n",
    "    '証明書プロファイルID',\n",
    "    '発行・更新申請-証明書有効開始',\n",
    "    '発行・更新申請-証明書有効期限',\n",
    "    '発行・更新申請-認証局連携APIエラーコード',\n",
    "    '旧証明書シリアル番号',\n",
    "    '最終更新日',\n",
    "]]\n",
    "display(result)"
   ]
  },
  {
   "cell_type": "markdown",
   "id": "2f1432a2-4be2-4977-8ecc-73e0d2d880fa",
   "metadata": {},
   "source": [
    "# 申請の状態\n",
    "0:証明書発行処理中  \n",
    "1:証明書更新処理中  \n",
    "2:証明書失効処理中  \n",
    "3:発行案内メール送信待ち  \n",
    "4:発行案内メール送信済み  \n",
    "5:証明書発行処理完了  \n",
    "6:証明書更新処理完了  \n",
    "7:証明書失効処理完了  \n",
    "8:新証明書への置き換え待ち  \n",
    "9:発行・更新完了メール送信待ち  \n",
    "10:失効完了メール送信待ち  \n",
    "-1:フォーマットエラー  \n",
    "-2:認証局連携API処理エラー  \n",
    "-3:支援システム実行エラー  \n",
    "\n",
    "# プロファイルID\n",
    "3:サーバ証明書（sha256WithRSAEncryption)   \n",
    "11:サーバ証明書（ecdsa-with-SHA384）\n"
   ]
  }
 ],
 "metadata": {
  "interpreter": {
   "hash": "1b8fa1e16efc16f234bba3cde3431d9136ae91bed61cfcff7edf718eaee0cb77"
  },
  "kernelspec": {
   "display_name": "Python 3.9.7 ('base')",
   "language": "python",
   "name": "python3"
  },
  "language_info": {
   "codemirror_mode": {
    "name": "ipython",
    "version": 3
   },
   "file_extension": ".py",
   "mimetype": "text/x-python",
   "name": "python",
   "nbconvert_exporter": "python",
   "pygments_lexer": "ipython3",
   "version": "3.9.7"
  }
 },
 "nbformat": 4,
 "nbformat_minor": 5
}
